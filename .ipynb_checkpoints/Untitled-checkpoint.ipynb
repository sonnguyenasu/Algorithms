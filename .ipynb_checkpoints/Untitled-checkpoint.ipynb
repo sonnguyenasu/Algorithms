{
 "cells": [
  {
   "cell_type": "code",
   "execution_count": null,
   "metadata": {},
   "outputs": [],
   "source": [
    "import math\n",
    "def tour(friends, friend_towns, home_to_town_distances):\n",
    "    home_to_town_distances[\"X0\"] = 0\n",
    "    dist = 0\n",
    "    temp = 0\n",
    "    for item in home_to_town_distances.values():\n",
    "        dist += math.sqrt(abs(item**2-temp**2))\n",
    "        temp = item\n",
    "    dist += temp\n",
    "    return int(dist)\n",
    "        \n",
    "friends1 = [\"A1\", \"A2\", \"A3\", \"A4\", \"A5\"]\n",
    "fTowns1 = [[\"A1\", \"X1\"], [\"A2\", \"X2\"], [\"A3\", \"X3\"], [\"A4\", \"X4\"]]\n",
    "distTable1 = {\"X1\": 100.0, \"X2\": 200.0, \"X3\": 250.0, \"X4\": 300.0}\n",
    "tour(friends1, fTowns1, distTable1)"
   ]
  },
  {
   "cell_type": "code",
   "execution_count": 7,
   "metadata": {},
   "outputs": [
    {
     "data": {
      "text/plain": [
       "[1, 2, 3, 4, 5, 6]"
      ]
     },
     "execution_count": 7,
     "metadata": {},
     "output_type": "execute_result"
    }
   ],
   "source": [
    "class Stack(list):\n",
    "    def __init__(self,arr,top=-1):\n",
    "        list.__init__(self,arr)\n",
    "        if top > -1:\n",
    "            self.top = top\n",
    "        else: self.top = len(arr)-1\n",
    "    def stackEmpty(self):\n",
    "        if self.top == 0:\n",
    "            return True\n",
    "        else: return False\n",
    "    def push(self,x):\n",
    "        self.top += 1\n",
    "        if self.top < len(self):\n",
    "            self[self.top] = x\n",
    "        else:\n",
    "            self.append(x)\n",
    "    def pop(self):\n",
    "        if stackEmpty(self):\n",
    "            raise 'underflow'\n",
    "        else:\n",
    "            self.top -= 1\n",
    "            return self[self.top+1]\n",
    "        \n",
    "\n",
    "s = Stack([1,2,3,4,5])\n",
    "s.push(6)\n",
    "s"
   ]
  },
  {
   "cell_type": "code",
   "execution_count": null,
   "metadata": {},
   "outputs": [],
   "source": [
    "possibles = [0,1,2,3,4,5,6,7,8,9]\n",
    "mod = [1,1,4,4,2,1,1,4,4,2]\n",
    "def last_digit(lst):\n",
    "    # Your Code Here\n",
    "    if len(lst) == 0:\n",
    "      return 1\n",
    "    elif len(lst) == 1:\n",
    "      return lst[0]%10\n",
    "    elif lst[-1] == 0:\n",
    "      return last_digit(lst[:len(lst)-2])\n",
    "    elif len(lst) == 2:\n",
    "      lst[0] = lst[0]%10\n",
    "      result = lst[0]**(lst[1]%mod[lst[0]])%10\n",
    "      return result\n",
    "    else:\n",
    "      lst[0] = lst[0]%10\n",
    "      lst[1] = lst[1]%4\n",
    "      lst[2] = lst[2]%2\n",
    "      lst[1] = (lst[1]**lst[2])%4\n",
    "      result = lst[0]**(lst[1]%mod[lst[0]])%10\n",
    "      return result\n",
    "    pass"
   ]
  },
  {
   "cell_type": "code",
   "execution_count": 52,
   "metadata": {},
   "outputs": [
    {
     "data": {
      "text/plain": [
       "[2,\n",
       " 3,\n",
       " 5,\n",
       " 7,\n",
       " 11,\n",
       " 13,\n",
       " 17,\n",
       " 19,\n",
       " 23,\n",
       " 29,\n",
       " 31,\n",
       " 37,\n",
       " 41,\n",
       " 43,\n",
       " 47,\n",
       " 53,\n",
       " 59,\n",
       " 61,\n",
       " 67,\n",
       " 71,\n",
       " 73,\n",
       " 79,\n",
       " 83,\n",
       " 89,\n",
       " 97,\n",
       " 101,\n",
       " 103,\n",
       " 107,\n",
       " 109,\n",
       " 113,\n",
       " 127,\n",
       " 131,\n",
       " 137,\n",
       " 139,\n",
       " 149,\n",
       " 151,\n",
       " 157,\n",
       " 163,\n",
       " 167,\n",
       " 173,\n",
       " 179,\n",
       " 181,\n",
       " 191,\n",
       " 193,\n",
       " 197,\n",
       " 199,\n",
       " 211,\n",
       " 223,\n",
       " 227,\n",
       " 229,\n",
       " 233,\n",
       " 239,\n",
       " 241,\n",
       " 251]"
      ]
     },
     "execution_count": 52,
     "metadata": {},
     "output_type": "execute_result"
    }
   ],
   "source": [
    "import math\n",
    "primes = []\n",
    "def isPrime(number):\n",
    "    for it in range(2,int(math.sqrt(number))+1):\n",
    "        if number % it == 0:\n",
    "            return False\n",
    "    return True\n",
    "\n",
    "for i in range(2,256):\n",
    "    if isPrime(i):\n",
    "        primes.append(i)\n",
    "primes"
   ]
  },
  {
   "cell_type": "code",
   "execution_count": 84,
   "metadata": {},
   "outputs": [],
   "source": [
    "import numpy as np\n",
    "primes = [2,3,5,7,11,13,17,19,23,29,31,37,41,43,47,53,59,61,67,71,73,79,83,89,97,101,103,107,109,113,127,131,137,139,149,151,157,163,167,173,179,181,191,193,197,199,211,223,227,229,233,239,241,251]\n",
    "def zeroes (base, number):\n",
    "    ps = [prime for prime in primes if base % prime == 0]\n",
    "    alphas = [powerOf(prime,base) for prime in ps]\n",
    "    betas = np.zeros(len(alphas))\n",
    "    results = []\n",
    "    for i in range(0,len(alphas)):\n",
    "        for j in range(1,log(ps[i],number)+1):\n",
    "            #print(betas[i])\n",
    "            betas[i] += int(number/(ps[i]**j))\n",
    "        results.append(int(betas[i]/alphas[i]))\n",
    "    print(ps,alphas,betas,results)\n",
    "    return min(results)\n",
    "def powerOf(a,b):\n",
    "    if(b%a!=0):\n",
    "        return 0\n",
    "    else:\n",
    "        return powerOf(a,b/a)+1\n",
    "def log(p,m):\n",
    "    result = 0\n",
    "    test = p\n",
    "    while(test <= m):\n",
    "        result += 1\n",
    "        test *= p\n",
    "    return result"
   ]
  },
  {
   "cell_type": "code",
   "execution_count": 85,
   "metadata": {},
   "outputs": [
    {
     "name": "stdout",
     "output_type": "stream",
     "text": [
      "[2, 5] [1, 1] [8. 2.] [8, 2]\n"
     ]
    },
    {
     "data": {
      "text/plain": [
       "2"
      ]
     },
     "execution_count": 85,
     "metadata": {},
     "output_type": "execute_result"
    }
   ],
   "source": [
    "zeroes(10,10)"
   ]
  },
  {
   "cell_type": "code",
   "execution_count": 8,
   "metadata": {},
   "outputs": [
    {
     "data": {
      "text/plain": [
       "[[5, 6, 1, 8, 4, 7, 9, 2, 3],\n",
       " [3, 7, 9, 5, 2, 1, 6, 8, 4],\n",
       " [4, 2, 8, 9, 6, 3, 1, 7, 5],\n",
       " [6, 1, 3, 7, 8, 9, 5, 4, 2],\n",
       " [7, 9, 4, 6, 5, 2, 3, 1, 8],\n",
       " [8, 5, 2, 1, 3, 4, 7, 9, 6],\n",
       " [9, 3, 5, 4, 7, 8, 2, 6, 1],\n",
       " [1, 4, 6, 2, 9, 5, 8, 3, 7],\n",
       " [2, 8, 7, 3, 1, 6, 4, 5, 9]]"
      ]
     },
     "execution_count": 8,
     "metadata": {},
     "output_type": "execute_result"
    }
   ],
   "source": [
    "def boardTranspose(board):\n",
    "  transpose = []\n",
    "  transposeRow = []\n",
    "  for i in range(0,9):\n",
    "    for row in board:\n",
    "      transposeRow.append(row[i])\n",
    "    transpose.append(transposeRow)\n",
    "    transposeRow = []\n",
    "  return transpose\n",
    "boardTranspose([[5, 3, 4, 6, 7, 8, 9, 1, 2], \n",
    "                [6, 7, 2, 1, 9, 5, 3, 4, 8],\n",
    "                [1, 9, 8, 3, 4, 2, 5, 6, 7],\n",
    "                [8, 5, 9, 7, 6, 1, 4, 2, 3],\n",
    "                [4, 2, 6, 8, 5, 3, 7, 9, 1],\n",
    "                [7, 1, 3, 9, 2, 4, 8, 5, 6],\n",
    "                [9, 6, 1, 5, 3, 7, 2, 8, 4],\n",
    "                [2, 8, 7, 4, 1, 9, 6, 3, 5],\n",
    "                [3, 4, 5, 2, 8, 6, 1, 7, 9]])"
   ]
  },
  {
   "cell_type": "code",
   "execution_count": 10,
   "metadata": {},
   "outputs": [
    {
     "data": {
      "text/plain": [
       "[[5, 6, 1, 3, 7, 9, 4, 2, 8],\n",
       " [6, 1, 3, 7, 9, 4, 8, 5, 2],\n",
       " [9, 3, 5, 1, 4, 6, 2, 8, 7],\n",
       " [8, 4, 7, 5, 2, 1, 9, 6, 3],\n",
       " [7, 8, 9, 6, 5, 2, 1, 3, 4],\n",
       " [4, 7, 8, 2, 9, 5, 3, 1, 6],\n",
       " [9, 2, 3, 6, 8, 4, 1, 7, 5],\n",
       " [5, 4, 2, 3, 1, 8, 7, 9, 6],\n",
       " [2, 6, 1, 8, 3, 7, 4, 5, 9]]"
      ]
     },
     "execution_count": 10,
     "metadata": {},
     "output_type": "execute_result"
    }
   ],
   "source": [
    "def boxify(board):\n",
    "  boxify = []\n",
    "  boxifyRow = []\n",
    "  for i in range(0,3):\n",
    "    for j in range(0,3):\n",
    "      boxifyRow.append(board[3*i][3*j])\n",
    "      boxifyRow.append(board[3*i+1][3*j])\n",
    "      boxifyRow.append(board[3*i+2][3*j])\n",
    "      boxifyRow.append(board[3*i][3*j+1])\n",
    "      boxifyRow.append(board[3*i+1][3*j+1])\n",
    "      boxifyRow.append(board[3*i+2][3*j+1])\n",
    "      boxifyRow.append(board[3*i][3*j+2])\n",
    "      boxifyRow.append(board[3*i+1][3*j+2])\n",
    "      boxifyRow.append(board[3*i+2][3*j+2])\n",
    "      boxify.append(boxifyRow)\n",
    "      boxifyRow = []\n",
    "  return boxify\n",
    "boxify([[5, 3, 4, 6, 7, 8, 9, 1, 2], \n",
    "        [6, 7, 2, 1, 9, 5, 3, 4, 8],\n",
    "        [1, 9, 8, 3, 4, 2, 5, 6, 7],\n",
    "        [8, 5, 9, 7, 6, 1, 4, 2, 3],\n",
    "        [4, 2, 6, 8, 5, 3, 7, 9, 1],\n",
    "        [7, 1, 3, 9, 2, 4, 8, 5, 6],\n",
    "        [9, 6, 1, 5, 3, 7, 2, 8, 4],\n",
    "        [2, 8, 7, 4, 1, 9, 6, 3, 5],\n",
    "        [3, 4, 5, 2, 8, 6, 1, 7, 9]])"
   ]
  },
  {
   "cell_type": "code",
   "execution_count": 28,
   "metadata": {},
   "outputs": [
    {
     "name": "stdout",
     "output_type": "stream",
     "text": [
      "[1]\n"
     ]
    },
    {
     "data": {
      "text/plain": [
       "2965715"
      ]
     },
     "execution_count": 28,
     "metadata": {},
     "output_type": "execute_result"
    }
   ],
   "source": [
    "import numpy as np\n",
    "arr = np.random.randint(0,10000,size = (555000,1))\n",
    "\n",
    "def solution(a):\n",
    "    s = a[0]\n",
    "    for i in range(0,len(a)):\n",
    "      s = gcd(s,a[i])\n",
    "    return s*len(a)# smallest possible sum of all numbers in Array\n",
    "\n",
    "def gcd(a):\n",
    "  global numcalls\n",
    "  numcalls += 1\n",
    "  if len(a) == 1:\n",
    "    return a[0]\n",
    "  else:\n",
    "    return gcd(gcd(a[0:int(len(a)/2)]),gcd(a[int(len(a)/2):]))\n",
    "\n",
    "def gcd(a,b):\n",
    "  global numcalls\n",
    "  numcalls += 1\n",
    "  if(b==0):\n",
    "    return a\n",
    "  else:\n",
    "    return gcd(b,a%b)\n",
    "numcalls = 0\n",
    "print(gcdarr(arr))\n",
    "numcalls"
   ]
  },
  {
   "cell_type": "code",
   "execution_count": 32,
   "metadata": {},
   "outputs": [
    {
     "data": {
      "text/plain": [
       "4"
      ]
     },
     "execution_count": 32,
     "metadata": {},
     "output_type": "execute_result"
    }
   ],
   "source": [
    "def zeroes (base, number):\n",
    "  f = 1\n",
    "  m = 0\n",
    "  for i in range(1,number+1):\n",
    "    f *= i\n",
    "    if(f %base == 0):\n",
    "      m+= powerOf(base,f)[0]\n",
    "    f = powerOf(base,f)[1]\n",
    "  return m\n",
    "def powerOf(a,b):\n",
    "    if(b%a!=0):\n",
    "        return [0,int(b%a)]\n",
    "    else:\n",
    "        return [powerOf(a,b/a)[0]+1,powerOf(a,b/a)[1]]\n",
    "zeroes(3,9)"
   ]
  },
  {
   "cell_type": "code",
   "execution_count": 115,
   "metadata": {},
   "outputs": [],
   "source": [
    "def fast_count_change(money, coins, m):\n",
    "    coins.sort()\n",
    "    try: return m[(money, len(coins))]\n",
    "    except KeyError:\n",
    "        if money == 0:\n",
    "            m[(money, len(coins))] = 1\n",
    "            return 1\n",
    "        elif money < 0 or len(coins) == 0:\n",
    "            m[(money, len(coins))] = 0\n",
    "            return 0\n",
    "        else:\n",
    "            temp = coins[:]\n",
    "            temp1 = coins[:]\n",
    "            maxCoins = coins.pop()\n",
    "            without_max = fast_count_change(money, coins, m)\n",
    "            with_max = fast_count_change(money-maxCoins, temp, m)\n",
    "            res = without_max+with_max\n",
    "            m[(money,len(temp1))] = res\n",
    "            return res\n",
    "\n",
    "def count_change(money, coins):\n",
    "    print(money, coins)\n",
    "    m = {}\n",
    "    res= fast_count_change(money, coins, m)\n",
    "    print(m)\n",
    "    return res"
   ]
  },
  {
   "cell_type": "code",
   "execution_count": 220,
   "metadata": {},
   "outputs": [
    {
     "name": "stdout",
     "output_type": "stream",
     "text": [
      "None\n"
     ]
    }
   ],
   "source": [
    "import math\n",
    "memo = {}\n",
    "def decompose(n):\n",
    "    if not composable(n**2,memo): return None\n",
    "    else: return memo[n**2]\n",
    "def composable(number,m):\n",
    "    if number < 5:\n",
    "        return False\n",
    "    elif number == 5: \n",
    "        m[5] = [1,2]\n",
    "        return True\n",
    "    else:\n",
    "        for it in range(math.floor(math.sqrt(number)),0,-1):\n",
    "            if it == math.sqrt(number): pass\n",
    "            elif composable(number - it**2,m) or int(math.sqrt(number-it**2))**2 == number-it**2:\n",
    "                try: \n",
    "                    if not it in m[number - it**2]:\n",
    "                        m[number] = m[number - it**2][:]\n",
    "                        m[number].append(it)\n",
    "                        return True\n",
    "                except:\n",
    "                    if it != int(math.sqrt(number-it**2)):\n",
    "                        m[number] = [it,int(math.sqrt(number-it**2))]\n",
    "                        return True\n",
    "                    else:\n",
    "                        pass\n",
    "        return False\n",
    "    \n",
    "print(decompose(8))"
   ]
  },
  {
   "cell_type": "code",
   "execution_count": 224,
   "metadata": {},
   "outputs": [
    {
     "data": {
      "text/plain": [
       "[1, 2, 4, 10]"
      ]
     },
     "execution_count": 224,
     "metadata": {},
     "output_type": "execute_result"
    }
   ],
   "source": [
    "def decompose(n):\n",
    "    def _recurse(s,i):\n",
    "        if s < 0: return None\n",
    "        elif s == 0: return []\n",
    "        for j in range(i-1,0,-1):\n",
    "            sub = _recurse(s-j**2,j)\n",
    "            if sub != None:\n",
    "                return sub + [j]\n",
    "    return _recurse(n**2,n)\n",
    "decompose(11)"
   ]
  },
  {
   "cell_type": "code",
   "execution_count": 81,
   "metadata": {},
   "outputs": [
    {
     "data": {
      "text/plain": [
       "3"
      ]
     },
     "execution_count": 81,
     "metadata": {},
     "output_type": "execute_result"
    }
   ],
   "source": [
    "import math\n",
    "def sum_of_squares(n):\n",
    "    m = {}\n",
    "    return fast(n,m)\n",
    "def sum_of_two(n):\n",
    "    for j in range(1,int(math.sqrt(n))+1):\n",
    "        if int(math.sqrt(n-j**2))== math.sqrt(n-j**2):\n",
    "            return True\n",
    "    return False\n",
    "def fast(n,memo):\n",
    "    try: return memo[n]\n",
    "    except:\n",
    "        if( int(math.sqrt(n))**2 == n ):\n",
    "            memo[n] = 1\n",
    "            return 1\n",
    "        else:\n",
    "            for j in range(1,int(math.sqrt(n))+1):\n",
    "                if int(math.sqrt(n-j**2))== math.sqrt(n-j**2):\n",
    "                    memo[n] = 2\n",
    "                    return 2\n",
    "            for j in range(int(math.sqrt(n)),0,-1):\n",
    "                if(sum_of_two(n-j**2)):\n",
    "                    memo[n] = 3\n",
    "                    return 3\n",
    "            memo[n] = 4\n",
    "            return 4\n",
    "        \n",
    "sum_of_squares(1e8+3)    "
   ]
  },
  {
   "cell_type": "code",
   "execution_count": 5,
   "metadata": {},
   "outputs": [
    {
     "data": {
      "text/plain": [
       "'b'"
      ]
     },
     "execution_count": 5,
     "metadata": {},
     "output_type": "execute_result"
    }
   ],
   "source": [
    "c = 'a'\n",
    "d = ord('b')\n",
    "chr(d)"
   ]
  },
  {
   "cell_type": "code",
   "execution_count": 72,
   "metadata": {},
   "outputs": [],
   "source": [
    "class VigenereCipher(object):\n",
    "    def __init__(self, key, alphabet):\n",
    "        self.key = key#.decode('utf-8')\n",
    "        self.alphabet = alphabet#.decode('utf-8')\n",
    "        self.keys = [self.alphabet.index(c) for c in self.key]\n",
    "        self.encodedAlp = ''\n",
    "        for i in range(len(self.alphabet)):\n",
    "            for j in range(len(self.key)):\n",
    "                self.encodedAlp += self.alphabet[(i+self.keys[j%len(self.key)])%len(self.alphabet)] \n",
    "    def encode(self, text):\n",
    "        text = text#.decode('utf-8')\n",
    "        res = ''\n",
    "        for i in range(len(text)):\n",
    "            if text[i] in self.alphabet:\n",
    "                res += self.alphabet[(self.alphabet.index(text[i])+self.keys[i%len(self.key)])%len(self.alphabet)]\n",
    "            else:\n",
    "                res += text[i]\n",
    "        res = res#.decode('utf-8')\n",
    "        return res\n",
    "    \n",
    "    def decode(self, text):\n",
    "        text = text#.decode('utf-8')\n",
    "        res = ''\n",
    "        for i in range(len(text)):\n",
    "            if text[i] in self.encodedAlp:\n",
    "                res += self.alphabet[(self.alphabet.index(text[i])-self.keys[i%len(self.key)])%len(self.alphabet)]\n",
    "            else: res += text[i]\n",
    "        res = res#.decode('utf-8')\n",
    "        return res"
   ]
  },
  {
   "cell_type": "code",
   "execution_count": 82,
   "metadata": {},
   "outputs": [
    {
     "data": {
      "text/plain": [
       "'ャユピク'"
      ]
     },
     "execution_count": 82,
     "metadata": {},
     "output_type": "execute_result"
    }
   ],
   "source": [
    "key = 'カタカナ'\n",
    "abc = \"ァアィイゥウェエォオカガキギクグケゲコゴサザシジスズセゼソゾタダチヂッツヅテデトドナニヌネノハバパヒビピフブプヘベペホボポマミムメモャヤュユョヨラリルレロヮワヰヱヲンヴヵヶヷヸヹヺ\"\n",
    "c = VigenereCipher(key,abc)\n",
    "c.encode('ベトナム')"
   ]
  }
 ],
 "metadata": {
  "kernelspec": {
   "display_name": "Python 3",
   "language": "python",
   "name": "python3"
  },
  "language_info": {
   "codemirror_mode": {
    "name": "ipython",
    "version": 3
   },
   "file_extension": ".py",
   "mimetype": "text/x-python",
   "name": "python",
   "nbconvert_exporter": "python",
   "pygments_lexer": "ipython3",
   "version": "3.7.3"
  }
 },
 "nbformat": 4,
 "nbformat_minor": 2
}
