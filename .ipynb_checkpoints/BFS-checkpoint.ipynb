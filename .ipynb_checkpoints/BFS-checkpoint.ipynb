{
 "cells": [
  {
   "cell_type": "code",
   "execution_count": 17,
   "metadata": {},
   "outputs": [],
   "source": [
    "class Person(object):\n",
    "    def __init__(self,name):\n",
    "        self.name = name\n",
    "        self.friends = []\n",
    "    def addfriend(self,other):\n",
    "        if other in self.friends:\n",
    "            print(other.name + \" has been a friend of\" + self.name +\" already\")\n",
    "            \n",
    "        else:\n",
    "            self.friends.append(other)\n",
    "            print(other.name + \" and \" + self.name + \" has become friends.\")\n",
    "    def unfriend(self,other):\n",
    "        if other not in self.friends:\n",
    "            print(\"Oh no\",other.name,\"is not\",self.name,\"'s friend.\")\n",
    "    def __str__(self):\n",
    "        res = self.name + \"'s friend(s): \"\n",
    "        for it in range(len(self.friends)-1):\n",
    "            res+=self.friends[it].name + \", \"\n",
    "        if self.friends:\n",
    "            res += self.friends[-1].name\n",
    "        return res\n",
    "        "
   ]
  },
  {
   "cell_type": "code",
   "execution_count": 18,
   "metadata": {},
   "outputs": [
    {
     "name": "stdout",
     "output_type": "stream",
     "text": [
      "steve and peter has become friends.\n",
      "peter's friend(s): steve\n"
     ]
    }
   ],
   "source": [
    "peter = Person(\"peter\")\n",
    "steve = Person(\"steve\")\n",
    "peter.addfriend(steve)\n",
    "print(peter)"
   ]
  },
  {
   "cell_type": "code",
   "execution_count": null,
   "metadata": {},
   "outputs": [],
   "source": [
    "class Community(object):\n",
    "    def __init__(self):\n",
    "        self.group = {}\n",
    "    def newMember(self):\n",
    "        name = input(\"His/her name: \")\n",
    "        temp = Person(name)\n",
    "        number_of_friend = int(input(\"Number of friends: \"))\n",
    "        for it in range(number_of_friend):\n",
    "            friend_name = input(\">> \")\n",
    "            if friend_name in self.group.keys():\n",
    "                temp.addfriend(self.group[friend_name])\n",
    "            else:\n",
    "                while friend_name not in self.group.keys():\n",
    "                    print(\"The person is not in this community yet.\")\n",
    "                    friend_name = input(\">> \")\n",
    "                temp.addfriend(self.group[friend_name])\n",
    "        self.group[name] = temp\n",
    "    def __str__(self):\n",
    "        res = \"Our community has \" + len(self.group) + \" people:\\n\"\n",
    "        for key,value in self.group.items():\n",
    "            res += value.__str__()\n",
    "            res += \"\\n\"\n",
    "        return res\n",
    "        \n",
    "                "
   ]
  }
 ],
 "metadata": {
  "kernelspec": {
   "display_name": "Python 3",
   "language": "python",
   "name": "python3"
  }
 },
 "nbformat": 4,
 "nbformat_minor": 2
}
