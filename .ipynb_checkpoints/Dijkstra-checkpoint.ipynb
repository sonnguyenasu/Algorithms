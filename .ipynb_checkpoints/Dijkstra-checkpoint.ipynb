{
 "cells": [
  {
   "cell_type": "code",
   "execution_count": 1,
   "metadata": {},
   "outputs": [
    {
     "name": "stdout",
     "output_type": "stream",
     "text": [
      "W1's road to\n",
      "S6: 10 meter\n",
      "\n"
     ]
    }
   ],
   "source": [
    "class Building(object):\n",
    "    def __init__(self,name):\n",
    "        self.name = name\n",
    "        self.roads = {}\n",
    "        \n",
    "    def connect(self,other,weight,option=\"two-way\"):\n",
    "        self.roads[other] = weight\n",
    "        if option == \"two-way\":\n",
    "            other.roads[self] = weight\n",
    "    def __str__(self):\n",
    "        res = self.name + \"'s road to\\n\"\n",
    "        for key,value in self.roads.items():\n",
    "            res += key.name + \": \" + str(value) + \" meter\\n\"\n",
    "        return res\n",
    "w1 = Building(\"W1\")\n",
    "s6 = Building(\"S6\")\n",
    "\n",
    "w1.connect(s6,10)\n",
    "print(w1)"
   ]
  },
  {
   "cell_type": "code",
   "execution_count": 2,
   "metadata": {},
   "outputs": [],
   "source": [
    "class Area(object):\n",
    "    def __init__(self):\n",
    "        self.graph = {}\n",
    "        self.deg = {}\n",
    "    def __str__(self):\n",
    "        res = \"The area has the following building:\\n\"\n",
    "        for value in self.graph.values():\n",
    "            res += value.name + \", \"\n",
    "        res += \"\\n\"\n",
    "        return res\n",
    "    def newBuilding(self):\n",
    "        print(self)\n",
    "        name = input(\"Building name: \")\n",
    "        building = Building(name)\n",
    "        no = input(\"Building(s) that is(are) adjacent to this building: \")\n",
    "        if no:\n",
    "            dist = input(\"The respective distance: \")\n",
    "            dist = [int(measure) for measure in dist.split(\",\")]\n",
    "            adjacent = no.split(\", \")\n",
    "            try:\n",
    "                for it in range(len(dist)):\n",
    "                    building.connect(self.graph[adjacent[it]],dist[it])\n",
    "            except:\n",
    "                print(\"The building has not yet built.\\n\")\n",
    "                return\n",
    "        self.graph[name] = building\n",
    "    def degree(self):\n",
    "        for x in self.graph.values():\n",
    "            for y in self.graph.values():\n",
    "                self.deg[(x,y)] = 1000\n",
    "                self.deg[(y,x)] = 1000\n",
    "        \n",
    "    "
   ]
  },
  {
   "cell_type": "code",
   "execution_count": 16,
   "metadata": {},
   "outputs": [
    {
     "name": "stdout",
     "output_type": "stream",
     "text": [
      "The area has the following building:\n",
      "\n",
      "\n",
      "Building name: Alpha\n",
      "Building(s) that is(are) adjacent to this building: \n",
      "The area has the following building:\n",
      "Alpha, \n",
      "\n",
      "Building name: Beta\n",
      "Building(s) that is(are) adjacent to this building: \n",
      "The area has the following building:\n",
      "Alpha, Beta, \n",
      "\n",
      "Building name: Delta\n",
      "Building(s) that is(are) adjacent to this building: Alpha, Beta\n",
      "The respective distance: 10, 4\n",
      "The area has the following building:\n",
      "Alpha, Beta, Delta, \n",
      "\n",
      "Building name: Gamma\n",
      "Building(s) that is(are) adjacent to this building: Beta, Delta\n",
      "The respective distance: 5, 20\n",
      "The area has the following building:\n",
      "Alpha, Beta, Delta, Gamma, \n",
      "\n"
     ]
    }
   ],
   "source": [
    "a = Area()\n",
    "for i in range(4):\n",
    "    a.newBuilding()\n",
    "print(a)"
   ]
  },
  {
   "cell_type": "code",
   "execution_count": 17,
   "metadata": {},
   "outputs": [],
   "source": [
    "alpha = a.graph['Alpha']\n",
    "beta = a.graph['Beta']\n",
    "gamma = a.graph['Gamma']\n",
    "delta = a.graph['Delta']\n",
    "def DFSVisit(node,parent):\n",
    "    for b in node.roads.keys():\n",
    "        if b not in parent:\n",
    "            parent[b] = node\n",
    "            DFSVisit(b,parent)\n",
    "def DFS(area):\n",
    "    parent = {}\n",
    "    for node in area.graph.values():\n",
    "        if node not in parent:\n",
    "            parent[node] = None\n",
    "            DFSVisit(node,parent)\n",
    "    return parent\n",
    "#print(DFS(a))"
   ]
  },
  {
   "cell_type": "code",
   "execution_count": 18,
   "metadata": {},
   "outputs": [
    {
     "name": "stdout",
     "output_type": "stream",
     "text": [
      "Alpha: None\n",
      "Delta: Alpha\n",
      "Beta: Delta\n",
      "Gamma: Beta\n"
     ]
    }
   ],
   "source": [
    "structure = DFS(a)\n",
    "for key, val in structure.items():\n",
    "    if val:\n",
    "        print(key.name + \": \"+ val.name)\n",
    "    else:\n",
    "        print(key.name + \": \"+ 'None')"
   ]
  },
  {
   "cell_type": "code",
   "execution_count": 24,
   "metadata": {},
   "outputs": [],
   "source": [
    "def dist(x,y,area):\n",
    "    try:\n",
    "        return area.deg[(x,y)]\n",
    "    except:\n",
    "        temp = y\n",
    "        area.deg[(y,y)] = 0\n",
    "        res = {y:None}\n",
    "        while temp and temp != x:\n",
    "            for c in temp.roads.keys():\n",
    "                if c not in res or area.deg[(temp,y)] + temp.roads[c] < area.deg[(c,y)]:\n",
    "                    area.deg[(c,y)] = area.deg[(temp,y)] + temp.roads[c]\n",
    "                    res[c] = temp\n",
    "            temp = structure[temp]\n",
    "        t = x\n",
    "        print(x.name,end=\"-->\")\n",
    "        while t != y and t:\n",
    "            print(res[t].name, end = \"-->\")\n",
    "            t = res[t]\n",
    "        print(\"STOP\")\n",
    "        area.deg[(y,x)] = area.deg[(x,y)]\n",
    "        return area.deg[(x,y)]\n",
    "        "
   ]
  },
  {
   "cell_type": "code",
   "execution_count": 27,
   "metadata": {},
   "outputs": [
    {
     "data": {
      "text/plain": [
       "9"
      ]
     },
     "execution_count": 27,
     "metadata": {},
     "output_type": "execute_result"
    }
   ],
   "source": [
    "dist(delta,gamma,a)"
   ]
  },
  {
   "cell_type": "code",
   "execution_count": 6,
   "metadata": {},
   "outputs": [
    {
     "name": "stdout",
     "output_type": "stream",
     "text": [
      "Alpha's road to\n",
      "Gamma: 10 meter\n",
      "\n"
     ]
    }
   ],
   "source": [
    "print(alpha)"
   ]
  },
  {
   "cell_type": "code",
   "execution_count": null,
   "metadata": {},
   "outputs": [],
   "source": []
  },
  {
   "cell_type": "code",
   "execution_count": null,
   "metadata": {},
   "outputs": [],
   "source": []
  },
  {
   "cell_type": "code",
   "execution_count": null,
   "metadata": {},
   "outputs": [],
   "source": []
  }
 ],
 "metadata": {
  "kernelspec": {
   "display_name": "Python 3",
   "language": "python",
   "name": "python3"
  },
  "language_info": {
   "codemirror_mode": {
    "name": "ipython",
    "version": 3
   },
   "file_extension": ".py",
   "mimetype": "text/x-python",
   "name": "python",
   "nbconvert_exporter": "python",
   "pygments_lexer": "ipython3",
   "version": "3.7.3"
  }
 },
 "nbformat": 4,
 "nbformat_minor": 2
}
