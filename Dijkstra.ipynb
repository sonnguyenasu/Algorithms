{
 "cells": [
  {
   "cell_type": "code",
   "execution_count": 1,
   "metadata": {},
   "outputs": [
    {
     "name": "stdout",
     "output_type": "stream",
     "text": [
      "W1's road to\n",
      "S6: 10 meter\n",
      "\n"
     ]
    }
   ],
   "source": [
    "class Building(object):\n",
    "    def __init__(self,name):\n",
    "        self.name = name\n",
    "        self.roads = {}\n",
    "        \n",
    "    def connect(self,other,weight,option=\"two-way\"):\n",
    "        self.roads[other] = weight\n",
    "        if option == \"two-way\":\n",
    "            other.roads[self] = weight\n",
    "    def __str__(self):\n",
    "        res = self.name + \"'s road to\\n\"\n",
    "        for key,value in self.roads.items():\n",
    "            res += key.name + \": \" + str(value) + \" meter\\n\"\n",
    "        return res\n",
    "w1 = Building(\"W1\")\n",
    "s6 = Building(\"S6\")\n",
    "\n",
    "w1.connect(s6,10)\n",
    "print(w1)"
   ]
  },
  {
   "cell_type": "code",
   "execution_count": 2,
   "metadata": {},
   "outputs": [],
   "source": [
    "class Area(object):\n",
    "    def __init__(self):\n",
    "        self.graph = {}\n",
    "        self.deg = {}\n",
    "    def __str__(self):\n",
    "        res = \"The area has the following building:\\n\"\n",
    "        for value in self.graph.values():\n",
    "            res += value.name + \", \"\n",
    "        res += \"\\n\"\n",
    "        return res\n",
    "    def newBuilding(self):\n",
    "        print(self)\n",
    "        name = input(\"Building name: \")\n",
    "        building = Building(name)\n",
    "        no = input(\"Building(s) that is(are) adjacent to this building: \")\n",
    "        if no:\n",
    "            dist = input(\"The respective distance: \")\n",
    "            dist = [int(measure) for measure in dist.split(\",\")]\n",
    "            adjacent = no.split(\", \")\n",
    "            try:\n",
    "                for it in range(len(dist)):\n",
    "                    building.connect(self.graph[adjacent[it]],dist[it])\n",
    "            except:\n",
    "                print(\"The building has not yet built.\\n\")\n",
    "                return\n",
    "        self.graph[name] = building\n",
    "    def degree(self):\n",
    "        for x in self.graph.values():\n",
    "            for y in self.graph.values():\n",
    "                self.deg[(x,y)] = 1000\n",
    "                self.deg[(y,x)] = 1000\n",
    "        \n",
    "    "
   ]
  },
  {
   "cell_type": "code",
   "execution_count": 32,
   "metadata": {
    "collapsed": true
   },
   "outputs": [
    {
     "name": "stdout",
     "output_type": "stream",
     "text": [
      "The area has the following building:\n",
      "\n",
      "\n",
      "Building name: S2\n",
      "Building(s) that is(are) adjacent to this building: \n",
      "The area has the following building:\n",
      "S2, \n",
      "\n",
      "Building name: S3\n",
      "Building(s) that is(are) adjacent to this building: S2\n",
      "The respective distance: 2\n",
      "The area has the following building:\n",
      "S2, S3, \n",
      "\n",
      "Building name: S4\n",
      "Building(s) that is(are) adjacent to this building: S2, S3\n",
      "The respective distance: 1, 3\n",
      "The area has the following building:\n",
      "S2, S3, S4, \n",
      "\n",
      "Building name: S6(2)\n",
      "Building(s) that is(are) adjacent to this building: S2\n",
      "The respective distance: 1\n",
      "The area has the following building:\n",
      "S2, S3, S4, S6(2), \n",
      "\n",
      "Building name: S6(1)\n",
      "Building(s) that is(are) adjacent to this building: S6(2)\n",
      "The respective distance: 4\n",
      "The area has the following building:\n",
      "S2, S3, S4, S6(2), S6(1), \n",
      "\n",
      "Building name: S5(2)\n",
      "Building(s) that is(are) adjacent to this building: S2, S6(1)\n",
      "The respective distance: 2, 1\n",
      "The area has the following building:\n",
      "S2, S3, S4, S6(2), S6(1), S5(2), \n",
      "\n",
      "Building name: S5(1)\n",
      "Building(s) that is(are) adjacent to this building: S5(2), S3\n",
      "The respective distance: 1, 3\n",
      "The area has the following building:\n",
      "S2, S3, S4, S6(2), S6(1), S5(2), S5(1), \n",
      "\n",
      "Building name: S9\n",
      "Building(s) that is(are) adjacent to this building: S5(1)\n",
      "The respective distance: 2\n",
      "The area has the following building:\n",
      "S2, S3, S4, S6(2), S6(1), S5(2), S5(1), S9, \n",
      "\n",
      "Building name: S8\n",
      "Building(s) that is(are) adjacent to this building: S9, S3\n",
      "The respective distance: 1,3\n",
      "The area has the following building:\n",
      "S2, S3, S4, S6(2), S6(1), S5(2), S5(1), S9, S8, \n",
      "\n",
      "Building name: S7\n",
      "Building(s) that is(are) adjacent to this building: S8\n",
      "The respective distance: 2\n",
      "The area has the following building:\n",
      "S2, S3, S4, S6(2), S6(1), S5(2), S5(1), S9, S8, S7, \n",
      "\n",
      "Building name: S1\n",
      "Building(s) that is(are) adjacent to this building: S7\n",
      "The respective distance: 2\n",
      "The area has the following building:\n",
      "S2, S3, S4, S6(2), S6(1), S5(2), S5(1), S9, S8, S7, S1, \n",
      "\n"
     ]
    }
   ],
   "source": [
    "south = Area()\n",
    "for i in range(11):\n",
    "    south.newBuilding()\n",
    "print(south)"
   ]
  },
  {
   "cell_type": "code",
   "execution_count": 33,
   "metadata": {},
   "outputs": [],
   "source": [
    "def DFSVisit(node,parent):\n",
    "    for b in node.roads.keys():\n",
    "        if b not in parent:\n",
    "            parent[b] = node\n",
    "            DFSVisit(b,parent)\n",
    "def DFS(area):\n",
    "    parent = {}\n",
    "    for node in area.graph.values():\n",
    "        if node not in parent:\n",
    "            parent[node] = None\n",
    "            DFSVisit(node,parent)\n",
    "    return parent\n",
    "#print(DFS(a))"
   ]
  },
  {
   "cell_type": "code",
   "execution_count": 34,
   "metadata": {
    "collapsed": true
   },
   "outputs": [
    {
     "name": "stdout",
     "output_type": "stream",
     "text": [
      "S2: None\n",
      "S3: S2\n",
      "S4: S3\n",
      "S5(1): S3\n",
      "S5(2): S5(1)\n",
      "S6(1): S5(2)\n",
      "S6(2): S6(1)\n",
      "S9: S5(1)\n",
      "S8: S9\n",
      "S7: S8\n",
      "S1: S7\n"
     ]
    }
   ],
   "source": [
    "structure = DFS(south)\n",
    "for key, val in structure.items():\n",
    "    if val:\n",
    "        print(key.name + \": \"+ val.name)\n",
    "    else:\n",
    "        print(key.name + \": \"+ 'None')"
   ]
  },
  {
   "cell_type": "code",
   "execution_count": 35,
   "metadata": {},
   "outputs": [],
   "source": [
    "def dist(x,y,area):\n",
    "    try:\n",
    "        return area.deg[(x,y)]\n",
    "    except:\n",
    "        temp = y\n",
    "        area.deg[(y,y)] = 0\n",
    "        res = {y:None}\n",
    "        while temp and temp != x:\n",
    "            for c in temp.roads.keys():\n",
    "                if c not in res or area.deg[(temp,y)] + temp.roads[c] < area.deg[(c,y)]:\n",
    "                    area.deg[(c,y)] = area.deg[(temp,y)] + temp.roads[c]\n",
    "                    res[c] = temp\n",
    "            temp = structure[temp]\n",
    "        t = x\n",
    "        print(x.name,end=\"-->\")\n",
    "        while t != y and t:\n",
    "            print(res[t].name, end = \"-->\")\n",
    "            t = res[t]\n",
    "        print(\"STOP\")\n",
    "        area.deg[(y,x)] = area.deg[(x,y)]\n",
    "        return area.deg[(x,y)]\n",
    "        "
   ]
  },
  {
   "cell_type": "code",
   "execution_count": 58,
   "metadata": {
    "collapsed": true
   },
   "outputs": [
    {
     "data": {
      "text/plain": [
       "1000"
      ]
     },
     "execution_count": 58,
     "metadata": {},
     "output_type": "execute_result"
    }
   ],
   "source": [
    "south.degree()\n",
    "S1 = south.graph['S1']\n",
    "S4 = south.graph['S4']\n",
    "dist(S1,S4,south)"
   ]
  },
  {
   "cell_type": "code",
   "execution_count": 55,
   "metadata": {
    "collapsed": true
   },
   "outputs": [
    {
     "name": "stdout",
     "output_type": "stream",
     "text": [
      "S1's road to\n",
      "S7: 2 meter\n",
      "\n"
     ]
    }
   ],
   "source": [
    "print(S1)"
   ]
  },
  {
   "cell_type": "code",
   "execution_count": 86,
   "metadata": {},
   "outputs": [],
   "source": [
    "def Dijkstra(fromD,toS,area):\n",
    "    parent = {}\n",
    "    gen = {}\n",
    "    dist = {}\n",
    "    for node in area.graph.values():\n",
    "        dist[node] = 7\n",
    "        parent[node] = toS\n",
    "    dist[toS] = 0\n",
    "    while dist:\n",
    "        temp = min(dist, key= dist.get)\n",
    "        gen[temp] = dist[temp]\n",
    "        del dist[temp]\n",
    "        for c in temp.roads.keys():\n",
    "            if c not in gen:\n",
    "                if dist[c] > gen[temp] + temp.roads[c]:\n",
    "                    dist[c] = gen[temp] + temp.roads[c]\n",
    "                    parent[c] = temp\n",
    "    t = fromD\n",
    "    while t != toS:\n",
    "        print(t.name, end = \"\")\n",
    "        for it in range(gen[t]-gen[parent[t]]):\n",
    "            print(\"-\",end=\"\")\n",
    "        print(\">\",end=\"\")\n",
    "        t = parent[t]\n",
    "    print(toS.name)\n",
    "    return gen[fromD]\n",
    "\n",
    "    "
   ]
  },
  {
   "cell_type": "code",
   "execution_count": 87,
   "metadata": {},
   "outputs": [],
   "source": [
    "S51 = south.graph[\"S5(1)\"]\n",
    "S52 = south.graph[\"S5(2)\"]"
   ]
  },
  {
   "cell_type": "code",
   "execution_count": 88,
   "metadata": {},
   "outputs": [],
   "source": [
    "s = (0,south.graph[\"S1\"],south.graph[\"S2\"],south.graph[\"S3\"],south.graph[\"S4\"],[south.graph[\"S5(1)\"],south.graph[\"S5(2)\"]],[south.graph[\"S6(1)\"],south.graph[\"S6(2)\"]],south.graph[\"S7\"],south.graph[\"S8\"],south.graph[\"S9\"])"
   ]
  },
  {
   "cell_type": "code",
   "execution_count": 96,
   "metadata": {},
   "outputs": [
    {
     "name": "stdout",
     "output_type": "stream",
     "text": [
      "S6(1)---->S6(2)->S2\n"
     ]
    },
    {
     "data": {
      "text/plain": [
       "5"
      ]
     },
     "execution_count": 96,
     "metadata": {},
     "output_type": "execute_result"
    }
   ],
   "source": [
    "Dijkstra(s[6][0],s[2],south)"
   ]
  },
  {
   "cell_type": "code",
   "execution_count": 97,
   "metadata": {},
   "outputs": [
    {
     "name": "stdout",
     "output_type": "stream",
     "text": [
      "S2-->S3--->S8\n"
     ]
    },
    {
     "data": {
      "text/plain": [
       "5"
      ]
     },
     "execution_count": 97,
     "metadata": {},
     "output_type": "execute_result"
    }
   ],
   "source": [
    "Dijkstra(s[2],s[8],south)"
   ]
  },
  {
   "cell_type": "code",
   "execution_count": null,
   "metadata": {},
   "outputs": [],
   "source": []
  }
 ],
 "metadata": {
  "kernelspec": {
   "display_name": "Python 3",
   "language": "python",
   "name": "python3"
  },
  "language_info": {
   "codemirror_mode": {
    "name": "ipython",
    "version": 3
   },
   "file_extension": ".py",
   "mimetype": "text/x-python",
   "name": "python",
   "nbconvert_exporter": "python",
   "pygments_lexer": "ipython3",
   "version": "3.7.3"
  }
 },
 "nbformat": 4,
 "nbformat_minor": 2
}
