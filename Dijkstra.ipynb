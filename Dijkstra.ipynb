{
 "cells": [
  {
   "cell_type": "code",
   "execution_count": 35,
   "metadata": {},
   "outputs": [
    {
     "name": "stdout",
     "output_type": "stream",
     "text": [
      "W1's road to\n",
      "S6: 10 meter\n",
      "\n"
     ]
    }
   ],
   "source": [
    "class Building(object):\n",
    "    def __init__(self,name):\n",
    "        self.name = name\n",
    "        self.roads = {}\n",
    "        \n",
    "    def connect(self,other,weight,option=\"two-way\"):\n",
    "        self.roads[other] = weight\n",
    "        if option == \"two-way\":\n",
    "            other.roads[self] = weight\n",
    "    def __str__(self):\n",
    "        res = self.name + \"'s road to\\n\"\n",
    "        for key,value in self.roads.items():\n",
    "            res += key.name + \": \" + str(value) + \" meter\\n\"\n",
    "        return res\n",
    "w1 = Building(\"W1\")\n",
    "s6 = Building(\"S6\")\n",
    "\n",
    "w1.connect(s6,10)\n",
    "print(w1)"
   ]
  },
  {
   "cell_type": "code",
   "execution_count": 36,
   "metadata": {},
   "outputs": [],
   "source": [
    "class Area(object):\n",
    "    def __init__(self):\n",
    "        self.graph = {}\n",
    "        self.deg = {}\n",
    "    def __str__(self):\n",
    "        res = \"The area has the following building:\\n\"\n",
    "        for value in self.graph.values():\n",
    "            res += value.name + \", \"\n",
    "        res += \"\\n\"\n",
    "        return res\n",
    "    def newBuilding(self):\n",
    "        print(self)\n",
    "        name = input(\"Building name: \")\n",
    "        building = Building(name)\n",
    "        no = input(\"Building(s) that is(are) adjacent to this building: \")\n",
    "        if no:\n",
    "            dist = input(\"The respective distance: \")\n",
    "            dist = [int(measure) for measure in dist.split(\",\")]\n",
    "            adjacent = no.split(\", \")\n",
    "            try:\n",
    "                for it in range(len(dist)):\n",
    "                    building.connect(self.graph[adjacent[it]],dist[it])\n",
    "            except:\n",
    "                print(\"The building has not yet built.\\n\")\n",
    "                return\n",
    "        self.graph[name] = building\n",
    "    def degree(self):\n",
    "        for x in self.graph.values():\n",
    "            for y in self.graph.values():\n",
    "                self.deg[(x,y)] = 1000\n",
    "                self.deg[(y,x)] = 1000\n",
    "        \n",
    "    "
   ]
  },
  {
   "cell_type": "code",
   "execution_count": 37,
   "metadata": {},
   "outputs": [
    {
     "name": "stdout",
     "output_type": "stream",
     "text": [
      "The area has the following building:\n",
      "\n",
      "\n",
      "Building name: Alpha\n",
      "Building(s) that is(are) adjacent to this building: \n",
      "The area has the following building:\n",
      "Alpha, \n",
      "\n",
      "Building name: Beta\n",
      "Building(s) that is(are) adjacent to this building: Alpha\n",
      "The respective distance: 8\n",
      "The area has the following building:\n",
      "Alpha, Beta, \n",
      "\n",
      "Building name: Delta\n",
      "Building(s) that is(are) adjacent to this building: Alpha, Beta\n",
      "The respective distance: 5, 2\n",
      "The area has the following building:\n",
      "Alpha, Beta, Delta, \n",
      "\n",
      "Building name: Gamma\n",
      "Building(s) that is(are) adjacent to this building: Alpha, Delta\n",
      "The respective distance: 2, 2\n",
      "The area has the following building:\n",
      "Alpha, Beta, Delta, Gamma, \n",
      "\n",
      "Building name: E\n",
      "Building(s) that is(are) adjacent to this building: Delta, Gamma\n",
      "The respective distance: 1, 5\n",
      "The area has the following building:\n",
      "Alpha, Beta, Delta, Gamma, E, \n",
      "\n",
      "Building name: G\n",
      "Building(s) that is(are) adjacent to this building: E, Delta\n",
      "The respective distance: 1, 3\n",
      "The area has the following building:\n",
      "Alpha, Beta, Delta, Gamma, E, G, \n",
      "\n",
      "Building name: F\n",
      "Building(s) that is(are) adjacent to this building: Beta, Delta, G\n",
      "The respective distance: 13, 6, 2\n",
      "The area has the following building:\n",
      "Alpha, Beta, Delta, Gamma, E, G, F, \n",
      "\n",
      "Building name: H\n",
      "Building(s) that is(are) adjacent to this building: F, G\n",
      "The respective distance: 3, 6\n",
      "The area has the following building:\n",
      "Alpha, Beta, Delta, Gamma, E, G, F, H, \n",
      "\n"
     ]
    }
   ],
   "source": [
    "a = Area()\n",
    "for i in range(8):\n",
    "    a.newBuilding()\n",
    "print(a)"
   ]
  },
  {
   "cell_type": "code",
   "execution_count": 38,
   "metadata": {},
   "outputs": [],
   "source": [
    "alpha = a.graph['Alpha']\n",
    "beta = a.graph['Beta']\n",
    "gamma = a.graph['Gamma']\n",
    "delta = a.graph['Delta']\n",
    "def DFSVisit(node,parent):\n",
    "    for b in node.roads.keys():\n",
    "        if b not in parent:\n",
    "            parent[b] = node\n",
    "            DFSVisit(b,parent)\n",
    "def DFS(area):\n",
    "    parent = {}\n",
    "    for node in area.graph.values():\n",
    "        if node not in parent:\n",
    "            parent[node] = None\n",
    "            DFSVisit(node,parent)\n",
    "    return parent\n",
    "#print(DFS(a))"
   ]
  },
  {
   "cell_type": "code",
   "execution_count": 39,
   "metadata": {},
   "outputs": [
    {
     "name": "stdout",
     "output_type": "stream",
     "text": [
      "Alpha: None\n",
      "Beta: Alpha\n",
      "Delta: Beta\n",
      "Gamma: Delta\n",
      "E: Gamma\n",
      "G: E\n",
      "F: G\n",
      "H: F\n"
     ]
    }
   ],
   "source": [
    "structure = DFS(a)\n",
    "for key, val in structure.items():\n",
    "    if val:\n",
    "        print(key.name + \": \"+ val.name)\n",
    "    else:\n",
    "        print(key.name + \": \"+ 'None')"
   ]
  },
  {
   "cell_type": "code",
   "execution_count": 40,
   "metadata": {},
   "outputs": [],
   "source": [
    "def dist(x,y,area):\n",
    "    try:\n",
    "        return area.deg[(x,y)]\n",
    "    except:\n",
    "        temp = y\n",
    "        area.deg[(y,y)] = 0\n",
    "        res = {y:None}\n",
    "        while temp and temp != x:\n",
    "            for c in temp.roads.keys():\n",
    "                if c not in res or area.deg[(temp,y)] + temp.roads[c] < area.deg[(c,y)]:\n",
    "                    area.deg[(c,y)] = area.deg[(temp,y)] + temp.roads[c]\n",
    "                    res[c] = temp\n",
    "            temp = structure[temp]\n",
    "        t = x\n",
    "        print(x.name,end=\"-->\")\n",
    "        while t != y and t:\n",
    "            print(res[t].name, end = \"-->\")\n",
    "            t = res[t]\n",
    "        print(\"STOP\")\n",
    "        area.deg[(y,x)] = area.deg[(x,y)]\n",
    "        return area.deg[(x,y)]\n",
    "        "
   ]
  },
  {
   "cell_type": "code",
   "execution_count": 44,
   "metadata": {},
   "outputs": [
    {
     "name": "stdout",
     "output_type": "stream",
     "text": [
      "E-->"
     ]
    },
    {
     "ename": "KeyError",
     "evalue": "<__main__.Building object at 0x00000065085EB828>",
     "output_type": "error",
     "traceback": [
      "\u001b[1;31m---------------------------------------------------------------------------\u001b[0m",
      "\u001b[1;31mKeyError\u001b[0m                                  Traceback (most recent call last)",
      "\u001b[1;32m<ipython-input-40-afc2bbb160e6>\u001b[0m in \u001b[0;36mdist\u001b[1;34m(x, y, area)\u001b[0m\n\u001b[0;32m      2\u001b[0m     \u001b[1;32mtry\u001b[0m\u001b[1;33m:\u001b[0m\u001b[1;33m\u001b[0m\u001b[1;33m\u001b[0m\u001b[0m\n\u001b[1;32m----> 3\u001b[1;33m         \u001b[1;32mreturn\u001b[0m \u001b[0marea\u001b[0m\u001b[1;33m.\u001b[0m\u001b[0mdeg\u001b[0m\u001b[1;33m[\u001b[0m\u001b[1;33m(\u001b[0m\u001b[0mx\u001b[0m\u001b[1;33m,\u001b[0m\u001b[0my\u001b[0m\u001b[1;33m)\u001b[0m\u001b[1;33m]\u001b[0m\u001b[1;33m\u001b[0m\u001b[1;33m\u001b[0m\u001b[0m\n\u001b[0m\u001b[0;32m      4\u001b[0m     \u001b[1;32mexcept\u001b[0m\u001b[1;33m:\u001b[0m\u001b[1;33m\u001b[0m\u001b[1;33m\u001b[0m\u001b[0m\n",
      "\u001b[1;31mKeyError\u001b[0m: (<__main__.Building object at 0x00000065085EB828>, <__main__.Building object at 0x00000065085EBA58>)",
      "\nDuring handling of the above exception, another exception occurred:\n",
      "\u001b[1;31mKeyError\u001b[0m                                  Traceback (most recent call last)",
      "\u001b[1;32m<ipython-input-44-9dabcefe305f>\u001b[0m in \u001b[0;36m<module>\u001b[1;34m\u001b[0m\n\u001b[0;32m      1\u001b[0m \u001b[0mE\u001b[0m \u001b[1;33m=\u001b[0m \u001b[0ma\u001b[0m\u001b[1;33m.\u001b[0m\u001b[0mgraph\u001b[0m\u001b[1;33m[\u001b[0m\u001b[1;34m\"E\"\u001b[0m\u001b[1;33m]\u001b[0m\u001b[1;33m\u001b[0m\u001b[1;33m\u001b[0m\u001b[0m\n\u001b[1;32m----> 2\u001b[1;33m \u001b[0mdist\u001b[0m\u001b[1;33m(\u001b[0m\u001b[0mE\u001b[0m\u001b[1;33m,\u001b[0m\u001b[0malpha\u001b[0m\u001b[1;33m,\u001b[0m\u001b[0ma\u001b[0m\u001b[1;33m)\u001b[0m\u001b[1;33m\u001b[0m\u001b[1;33m\u001b[0m\u001b[0m\n\u001b[0m",
      "\u001b[1;32m<ipython-input-40-afc2bbb160e6>\u001b[0m in \u001b[0;36mdist\u001b[1;34m(x, y, area)\u001b[0m\n\u001b[0;32m     15\u001b[0m         \u001b[0mprint\u001b[0m\u001b[1;33m(\u001b[0m\u001b[0mx\u001b[0m\u001b[1;33m.\u001b[0m\u001b[0mname\u001b[0m\u001b[1;33m,\u001b[0m\u001b[0mend\u001b[0m\u001b[1;33m=\u001b[0m\u001b[1;34m\"-->\"\u001b[0m\u001b[1;33m)\u001b[0m\u001b[1;33m\u001b[0m\u001b[1;33m\u001b[0m\u001b[0m\n\u001b[0;32m     16\u001b[0m         \u001b[1;32mwhile\u001b[0m \u001b[0mt\u001b[0m \u001b[1;33m!=\u001b[0m \u001b[0my\u001b[0m \u001b[1;32mand\u001b[0m \u001b[0mt\u001b[0m\u001b[1;33m:\u001b[0m\u001b[1;33m\u001b[0m\u001b[1;33m\u001b[0m\u001b[0m\n\u001b[1;32m---> 17\u001b[1;33m             \u001b[0mprint\u001b[0m\u001b[1;33m(\u001b[0m\u001b[0mres\u001b[0m\u001b[1;33m[\u001b[0m\u001b[0mt\u001b[0m\u001b[1;33m]\u001b[0m\u001b[1;33m.\u001b[0m\u001b[0mname\u001b[0m\u001b[1;33m,\u001b[0m \u001b[0mend\u001b[0m \u001b[1;33m=\u001b[0m \u001b[1;34m\"-->\"\u001b[0m\u001b[1;33m)\u001b[0m\u001b[1;33m\u001b[0m\u001b[1;33m\u001b[0m\u001b[0m\n\u001b[0m\u001b[0;32m     18\u001b[0m             \u001b[0mt\u001b[0m \u001b[1;33m=\u001b[0m \u001b[0mres\u001b[0m\u001b[1;33m[\u001b[0m\u001b[0mt\u001b[0m\u001b[1;33m]\u001b[0m\u001b[1;33m\u001b[0m\u001b[1;33m\u001b[0m\u001b[0m\n\u001b[0;32m     19\u001b[0m         \u001b[0mprint\u001b[0m\u001b[1;33m(\u001b[0m\u001b[1;34m\"STOP\"\u001b[0m\u001b[1;33m)\u001b[0m\u001b[1;33m\u001b[0m\u001b[1;33m\u001b[0m\u001b[0m\n",
      "\u001b[1;31mKeyError\u001b[0m: <__main__.Building object at 0x00000065085EB828>"
     ]
    }
   ],
   "source": [
    "E = a.graph[\"E\"]\n",
    "dist(E,alpha,a)"
   ]
  },
  {
   "cell_type": "code",
   "execution_count": 34,
   "metadata": {},
   "outputs": [
    {
     "name": "stdout",
     "output_type": "stream",
     "text": [
      "Alpha's road to\n",
      "Beta: 11 meter\n",
      "Gamma: 9 meter\n",
      "Delta: 7 meter\n",
      "\n"
     ]
    }
   ],
   "source": [
    "print(alpha)"
   ]
  },
  {
   "cell_type": "code",
   "execution_count": 60,
   "metadata": {},
   "outputs": [],
   "source": [
    "def Dijkstra(x,y,area):\n",
    "    order = []\n",
    "    gen = {}\n",
    "    dist = {}\n",
    "    for node in area.graph.values():\n",
    "        dist[node] = 1000\n",
    "    dist[x] = 0\n",
    "    while dist:\n",
    "        temp = min(dist, key= dist.get)\n",
    "        gen[temp] = (dist[temp], temp)\n",
    "        order.append(temp)\n",
    "        del dist[temp]\n",
    "        for c in temp.roads.keys():\n",
    "            if c not in gen:\n",
    "                if dist[c] > gen[temp][0] + temp.roads[c]:\n",
    "                    dist[c] = gen[temp][0] + temp.roads[c]\n",
    "    it = 0\n",
    "    while order[it] != y:\n",
    "        print(order[it].name + \"->\", end = \" \")\n",
    "        it += 1\n",
    "    print(y.name)\n",
    "    return gen[y][0]\n",
    "\n",
    "    "
   ]
  },
  {
   "cell_type": "code",
   "execution_count": 62,
   "metadata": {},
   "outputs": [
    {
     "name": "stdout",
     "output_type": "stream",
     "text": [
      "Alpha-> Gamma-> Delta-> E-> Beta-> G-> F-> H\n"
     ]
    },
    {
     "data": {
      "text/plain": [
       "11"
      ]
     },
     "execution_count": 62,
     "metadata": {},
     "output_type": "execute_result"
    }
   ],
   "source": [
    "H = a.graph[\"H\"]\n",
    "Dijkstra(alpha,H,a)"
   ]
  },
  {
   "cell_type": "code",
   "execution_count": null,
   "metadata": {},
   "outputs": [],
   "source": []
  }
 ],
 "metadata": {
  "kernelspec": {
   "display_name": "Python 3",
   "language": "python",
   "name": "python3"
  }
 },
 "nbformat": 4,
 "nbformat_minor": 2
}
