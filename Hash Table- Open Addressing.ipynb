{
 "cells": [
  {
   "cell_type": "markdown",
   "metadata": {},
   "source": [
    "# Open Addressing\n",
    "\n",
    "- no chaining\n",
    "- assume an array structure with items\n",
    "    - one item per slot\n",
    "    - m >= n\n",
    "        - m: #slots\n",
    "        - n: #elems"
   ]
  },
  {
   "cell_type": "markdown",
   "metadata": {},
   "source": [
    "## Probing\n",
    "- Hash function which specifies the oreder of slot to probe for a key (for insert/search/delete)\n",
    "- h : U (universe of key) x {0,1,..,m-1} (trial counts) --> {0,1,...,m-1}\n",
    "- Goal:\n",
    "    - h(k,1),h(k,2),..h(k,m-1) to be a permutation of 0,1,..,m-1"
   ]
  },
  {
   "cell_type": "markdown",
   "metadata": {},
   "source": [
    "### Insertion\n",
    "    repeat:\n",
    "    \n",
    "        probe h(k,i)\n",
    "        if h(k,i) is empty or FlagDelete: insert key k in h(k,i)\n",
    "        else:\n",
    "            i+=1\n",
    "\n",
    "### Search\n",
    "    \n",
    "    repeat:\n",
    "    \n",
    "        probe h(k,i)\n",
    "        if number in h(k,i) is k: return h(k,i)\n",
    "        else if h(k,i) is empty: raise Not Found\n",
    "        else: continue with i = i+1\n",
    "\n",
    "### Deletion\n",
    "\n",
    "    search(k)\n",
    "    if Found:\n",
    "        Replace k in that slot with FlagDelete\n",
    "    \n",
    "    "
   ]
  },
  {
   "cell_type": "markdown",
   "metadata": {},
   "source": [
    "# Hash Functions for Open Addressing\n",
    "\n",
    "<< Double Hashing >>\n",
    "\n",
    "    h(k,i) = h1(k) + i.h2(k) (mod m)\n",
    "\n",
    "        if h2(k) is relatively prime to m ==> we have permutation of {0,1,..,m-1}\n",
    "\n",
    "We often choose m = 2^r and h2(k) is odd for all k "
   ]
  },
  {
   "cell_type": "markdown",
   "metadata": {},
   "source": [
    "## Unform hashing assumption\n",
    "- every key is equally likely to get any one of the m! permutations as its probe sequence\n",
    "- alpha = n/m, then expected cost of insert = 1/(1-alpha)\n",
    "- This number alpha, if it near to 1, will make the cost be gigantic. Thus, whenever alpha ~ 0.5-0.6, we need to resize the hashing table (i.e. need to grow)"
   ]
  }
 ],
 "metadata": {
  "kernelspec": {
   "display_name": "Python 3",
   "language": "python",
   "name": "python3"
  },
  "language_info": {
   "codemirror_mode": {
    "name": "ipython",
    "version": 3
   },
   "file_extension": ".py",
   "mimetype": "text/x-python",
   "name": "python",
   "nbconvert_exporter": "python",
   "pygments_lexer": "ipython3",
   "version": "3.7.3"
  }
 },
 "nbformat": 4,
 "nbformat_minor": 2
}
