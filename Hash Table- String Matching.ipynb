{
 "cells": [
  {
   "cell_type": "markdown",
   "metadata": {},
   "source": [
    "## String matching\n",
    "- Search for a small string s in a giant length string t\n",
    "\n",
    "### Simple Algorithm:\n"
   ]
  },
  {
   "cell_type": "code",
   "execution_count": 5,
   "metadata": {},
   "outputs": [
    {
     "data": {
      "text/plain": [
       "False"
      ]
     },
     "execution_count": 5,
     "metadata": {},
     "output_type": "execute_result"
    }
   ],
   "source": [
    "s = 'abe'\n",
    "t = 'abcd'\n",
    "def search(s,t):\n",
    "    for i in range(len(t) - len(s)):\n",
    "        if (s == t[i:i+len(s)]):\n",
    "            return True\n",
    "    return False\n",
    "search(s,t)"
   ]
  },
  {
   "cell_type": "markdown",
   "metadata": {},
   "source": [
    "- Problem: High cost: theta(|s|(|t|-|s|))\n",
    "- We can reduce the cost to only theta(|s|+|t|)\n",
    "- The key around is instead of checking 2 strings, we can check the hash function of two string. if two hash are equal, we check if the two string are equal\n"
   ]
  },
  {
   "cell_type": "code",
   "execution_count": 6,
   "metadata": {},
   "outputs": [
    {
     "data": {
      "text/plain": [
       "True"
      ]
     },
     "execution_count": 6,
     "metadata": {},
     "output_type": "execute_result"
    }
   ],
   "source": [
    "s = 'abc'\n",
    "t = 'abc'\n",
    "hash(s)==hash(t)"
   ]
  },
  {
   "cell_type": "markdown",
   "metadata": {},
   "source": [
    "### Rolling Hash Abstract Data Type\n",
    "- r. append(c): adds character c to the end of x\n",
    "- r.skip(c): deletes first character of x (assuming it is c)\n",
    "\n",
    "rx maintains a string x\n",
    "\n",
    "rx() hash value of x = h(x)\n",
    "\n",
    "< Karp-Rabin Algorithm >\n",
    "\n",
    "for c in s: rs.append(c)\n",
    "\n",
    "for c in t[:len(s)]: rt.append(c)\n",
    "\n",
    "if rs() == rt(): check the linked list whether s == t[:len(s)]\n",
    "\n",
    "for i in range(len(s),len(t)):\n",
    "    \n",
    "    rt.skip(t[i-len(s)])\n",
    "    \n",
    "    rt.append(t[i])\n",
    "    \n",
    "    if rs() == r(t): check the linked list whether s == t[i-len(s)+1:i+1]\n",
    "    \n",
    "    if equal: found match\n",
    "    \n",
    "    if not equal:happens with probability 1/|s|\n",
    "    \n",
    "--> It is expected time theta(|s|+|t|)"
   ]
  },
  {
   "cell_type": "markdown",
   "metadata": {},
   "source": [
    "### Sol for hash data type r: Division Method\n",
    "\n",
    "h(k) = k (mod m)\n",
    "\n",
    "m is a random prime that is bigger than len(s) (m > |s|)\n",
    "\n",
    "Idea: Treat string x as a multidigit number u in base size(our_alphabet)\n",
    "\n",
    "r.append(c):\n",
    "\n",
    "    u -> u.a + ord(c)\n",
    "\n",
    "    r -> r.a + ord(c) mod m\n",
    "\n",
    "r.skip(c):\n",
    "\n",
    "    u -> u - c.a^(|x|-1)\n",
    "    \n",
    "    r -> r - c.a^(|x|-1) mod m"
   ]
  }
 ],
 "metadata": {
  "kernelspec": {
   "display_name": "Python 3",
   "language": "python",
   "name": "python3"
  },
  "language_info": {
   "codemirror_mode": {
    "name": "ipython",
    "version": 3
   },
   "file_extension": ".py",
   "mimetype": "text/x-python",
   "name": "python",
   "nbconvert_exporter": "python",
   "pygments_lexer": "ipython3",
   "version": "3.7.3"
  }
 },
 "nbformat": 4,
 "nbformat_minor": 2
}
