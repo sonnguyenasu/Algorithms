{
 "cells": [
  {
   "cell_type": "markdown",
   "metadata": {},
   "source": [
    "# Loop Invariants\n",
    "### Step 1: Initialization\n",
    "    It is true prior to the first iteration of the loop\n",
    "\n",
    "### Step 2: Maintenance\n",
    "    If it is true before an iteration of the loop, it remains true before the next iteration\n",
    "\n",
    "### Step 3: Termination\n",
    "    When the loop terminates, the invariant gives us a useful property that helps show that the algorithm is correct"
   ]
  },
  {
   "cell_type": "markdown",
   "metadata": {},
   "source": [
    "# Random Access Machine Model\n",
    "In RAM model, instructions are executed one after another\n",
    "\n",
    "The RAM model contains instructions commonly found in real computers such as arithmetic (add, subtract, devide, multiply,remainder, floor, celling), data movement (load, store, copy) and control(conditional and unconditional branch, subroutine call and return).\n",
    "\n",
    "Computation of 2^k in constant time when k is small enough integer\n"
   ]
  },
  {
   "cell_type": "markdown",
   "metadata": {},
   "source": [
    "# Analyzing algorithm\n",
    "\n",
    "### Input size: \n",
    "depends on the problem being studied: number of items in the input/ number of bits needed to reprresent the input in binary/ etc.\n",
    "### running time:\n",
    "number of primitive operations (steps) executed."
   ]
  },
  {
   "cell_type": "markdown",
   "metadata": {},
   "source": [
    "# Divide and conquer approach\n",
    "Algorithms break the problem into several subproblems that are similar problem but smaller in size."
   ]
  },
  {
   "cell_type": "markdown",
   "metadata": {},
   "source": [
    "# Heap data structure\n",
    "\n",
    "Root of the tree is A[0], and given index i of the node can easily be computed when we have 3 functions\n",
    "\n",
    "PARENT(i):\n",
    "  \n",
    "  return int(i/2)\n",
    "\n",
    "LEFT(i):\n",
    "  \n",
    "  return 2i+1\n",
    "\n",
    "RIGHT(i):\n",
    "  \n",
    "  return 2i+2\n",
    "## Max Heap\n",
    "Max heap is the heap that has the property: A[PARENT(i)] >= A[i]\n",
    "Max heap is used in heap sort algorithm\n",
    "## Min Heap\n",
    "Min heap is the heap that has the property: A[PARENT(i)] <= A[i]\n",
    "Min heap is used in priority queue algorithm.\n",
    "\n",
    "**we shall be precise in specifying whether we need a max-heap or a min-heap for any particular application\n",
    "\n",
    "- The maxHeapify procedure, which runs in O(lg n) times, is the key to maintaining the max-heap property (correct a single violation of the heap property in a subtree's root)\n",
    "- The buildMaxHeap procedure, which runs in linear times, produces a max heap from an unordered input array\n",
    "- The heapSort procedure, runs in O(nlgn) times, sorts an array in place\n",
    "- Th maxHeapInsert, heapExtractMax, heapIncreaseKey, and heapMaximum procedures, which run in O(lg n) time, allow the heap data structure to implement a priority queue\n",
    "\n"
   ]
  },
  {
   "cell_type": "markdown",
   "metadata": {},
   "source": [
    "maxHeapify(A,i): Assume that the tree rooted at LEFT(i) and RIGHT(i) are max heap\n"
   ]
  },
  {
   "cell_type": "code",
   "execution_count": 74,
   "metadata": {
    "scrolled": true
   },
   "outputs": [
    {
     "name": "stdout",
     "output_type": "stream",
     "text": [
      "[[0.08321551]\n",
      " [0.16124635]\n",
      " [0.36074367]\n",
      " [0.48216208]\n",
      " [0.65709875]\n",
      " [0.67930631]]\n"
     ]
    }
   ],
   "source": [
    "import numpy as np\n",
    "arr = np.random.rand(6,1)\n",
    "class Heap(list):\n",
    "    def __init__(self,arr,size=len(arr)):\n",
    "        self.array = arr\n",
    "        self.heapSize = size\n",
    "    def minHeapify(self,i):\n",
    "        l = 2*i+1\n",
    "        r = 2*i+2\n",
    "        if l < self.heapSize and self.array[l] < self.array[i]:\n",
    "            smallest = l\n",
    "        else: smallest = i\n",
    "        if r < self.heapSize and self.array[r] < self.array[smallest]:\n",
    "            smallest = r\n",
    "        if smallest != i:\n",
    "            self.array[i] += self.array[smallest]\n",
    "            self.array[smallest] = self.array[i]-self.array[smallest]\n",
    "            self.array[i] -= self.array[smallest]\n",
    "    def maxHeapify(self,i):\n",
    "        global numcalls\n",
    "        numcalls += 1\n",
    "        l = 2*i+1\n",
    "        r = 2*i+2\n",
    "        if l < self.heapSize and self.array[l] > self.array[i]:\n",
    "          largest = l\n",
    "        else: largest = i\n",
    "        if r < self.heapSize and self.array[r] > self.array[largest]:\n",
    "          largest = r\n",
    "        if largest != i:\n",
    "          self.array[i] += self.array[largest]\n",
    "          self.array[largest] = self.array[i] - self.array[largest]\n",
    "          self.array[i] -= self.array[largest]\n",
    "          self.maxHeapify(largest)\n",
    "    def buildMinHeap(self):\n",
    "        for it in range(int(self.heapSize/2-1),-1,-1):\n",
    "            self.minHeapify(it)\n",
    "    def buildMaxHeap(self):\n",
    "        for it in range(int(self.heapSize/2-1),-1,-1):\n",
    "          self.maxHeapify(it)\n",
    "    def sort(self):\n",
    "        self.buildMaxHeap()\n",
    "        for i in range(1,len(self.array)):\n",
    "            #print(self)\n",
    "            if(self.heapSize > 1):\n",
    "              self.array[0]+=self.array[self.heapSize-1]\n",
    "              self.array[self.heapSize-1]=self.array[0]-self.array[self.heapSize-1]\n",
    "              self.array[0]-=self.array[self.heapSize-1]\n",
    "            #print(self)\n",
    "            self.heapSize -= 1\n",
    "            self.maxHeapify(0)\n",
    "    def __str__(self):\n",
    "        return str(self.array)\n",
    "numcalls = 0\n",
    "array = Heap(arr)\n",
    "array.sort()\n",
    "print(array)"
   ]
  }
 ],
 "metadata": {
  "kernelspec": {
   "display_name": "Python 3",
   "language": "python",
   "name": "python3"
  },
  "language_info": {
   "codemirror_mode": {
    "name": "ipython",
    "version": 3
   },
   "file_extension": ".py",
   "mimetype": "text/x-python",
   "name": "python",
   "nbconvert_exporter": "python",
   "pygments_lexer": "ipython3",
   "version": "3.7.3"
  }
 },
 "nbformat": 4,
 "nbformat_minor": 2
}
