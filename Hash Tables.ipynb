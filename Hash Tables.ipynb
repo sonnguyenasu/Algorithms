{
 "cells": [
  {
   "cell_type": "markdown",
   "metadata": {},
   "source": [
    "# Intro"
   ]
  },
  {
   "cell_type": "markdown",
   "metadata": {},
   "source": [
    "Many applications require a dynamic set that supports only the dictionary operations INSERT, SEARCH and DELETE. For example, a compiler that translates a programming language maintains a symbol table, in which the characters strings corresponding to identifiers in the language. A hash table is an effective data structure for implementing dictionaries. Although searching for an element in a hash table can take as long as searching for an element in a linked list (linear time worst case), in practice, hashing performs extremely well. Under reasonable ASSUMPTIONS, the average time to search for an element in a hash table is O(1).\n",
    "\n",
    "A hash table generalizes the simpler notion of an ordinary array. Directly addressing into an ordinary array makes effective use of our ability to examine an arbitrary position in an array in O(1) time. We can take advantage of direct addressing when we can afford to allocate an array that has one position for every possible key.\n",
    "\n",
    "When the number of keys actually stored is small relative to the total number of possible keys, hash tables become an effective alternative to directly addressing an array, since hash table typically uses an array of size proportional to the number of keys actually stored. Instead of using the key as an array index directly, the array index is computed from the key. "
   ]
  },
  {
   "cell_type": "markdown",
   "metadata": {},
   "source": [
    "## Direct-address tables"
   ]
  },
  {
   "cell_type": "markdown",
   "metadata": {},
   "source": [
    "Direct addressing is a simple technique that works well when the universe U of keys is reasonaby small. Suppose that an application needs a dynamic set in which each element has a key drawn from the universe U = {0,1,..,m-1}, where m is not too large. We can assume that no two element has the same key.\n",
    "\n",
    "To represent the dynamic set, we use an array, or direct-address table, denoted by T[0,..,m-1], in which each position, or slot, corresponds to a key in the universe U. If the set contains no element with key k, then T[k] = nil (None, nan.)\n"
   ]
  },
  {
   "cell_type": "markdown",
   "metadata": {},
   "source": [
    "The dictionary operations are trivial to implement:"
   ]
  },
  {
   "cell_type": "code",
   "execution_count": 20,
   "metadata": {
    "collapsed": true
   },
   "outputs": [
    {
     "data": {
      "text/plain": [
       "array([nan, 20., nan, nan, nan, nan, nan, nan])"
      ]
     },
     "execution_count": 20,
     "metadata": {},
     "output_type": "execute_result"
    }
   ],
   "source": [
    "import numpy as np\n",
    "def direct_address_search(T,k):\n",
    "    return T[k]\n",
    "def direct_address_insert(T,x):\n",
    "    T[x.key] = x.x\n",
    "def direct_address_delete(T,x):\n",
    "    T[x.key] = None\n",
    "class NumberwKey(object):\n",
    "    def __init__(self,val,key):\n",
    "        self.x = val\n",
    "        self.key = key\n",
    "x = NumberwKey(20,1)\n",
    "arr = np.empty(8)\n",
    "arr.fill(None)\n",
    "direct_address_insert(arr,x)\n",
    "arr"
   ]
  },
  {
   "cell_type": "markdown",
   "metadata": {},
   "source": [
    "For some applications, the direct-address table itself can hold the elements in the dynamic set. That is, rather than storing an element's key and satellite data in an object eternal to the direct-address table, with a pointer from a slot in the table to the object, we can store object in the slot itself, thus saving space. We would use a special key within an object to indicate empty slot. Moreover, it is often unnecessary to store the key of the object, since if we have the index of an object in the table, we have its key. If keys are not stored, however, we must have some way to tell if slot is empty."
   ]
  },
  {
   "cell_type": "markdown",
   "metadata": {},
   "source": [
    "## Hash Tables"
   ]
  }
 ],
 "metadata": {
  "kernelspec": {
   "display_name": "Python 3",
   "language": "python",
   "name": "python3"
  },
  "language_info": {
   "codemirror_mode": {
    "name": "ipython",
    "version": 3
   },
   "file_extension": ".py",
   "mimetype": "text/x-python",
   "name": "python",
   "nbconvert_exporter": "python",
   "pygments_lexer": "ipython3",
   "version": "3.7.3"
  }
 },
 "nbformat": 4,
 "nbformat_minor": 2
}
