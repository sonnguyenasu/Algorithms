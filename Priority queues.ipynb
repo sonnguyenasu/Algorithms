{
 "cells": [
  {
   "cell_type": "markdown",
   "metadata": {},
   "source": [
    "Heapsort is an excellent algorithm, but a good implementation of quicksort usually beats it in practice. Nevertheless, the heap data structure itself has many uses. In this section, we present one of the most popular applications of a heap: \"an efficient priority queue\""
   ]
  },
  {
   "cell_type": "markdown",
   "metadata": {},
   "source": [
    "A priority queue is a data structure for maintaining a set S of elements, each with an associated key. A max-priority queue supports:\n",
    "- Insert(S,x): inserts the element x into the set S, which is equivalent to S = S U {x}\n",
    "- Maximum(S): returns the element of S with the largest key\n",
    "- ExtractMax(S): removes and returns the element of S with the largest key\n",
    "- increaseKey(S,x,k): increases the value of element x's key to a new value k, which is assumed to be at least as large as x's current key"
   ]
  },
  {
   "cell_type": "code",
   "execution_count": 36,
   "metadata": {},
   "outputs": [
    {
     "name": "stdout",
     "output_type": "stream",
     "text": [
      "[30, 5, 1, 2, 4, 12]\n"
     ]
    }
   ],
   "source": [
    "a = [1,2,30,5,4]\n",
    "class Heap(object):\n",
    "    def __init__(self,arr,size = 0):\n",
    "        self.array = arr\n",
    "        if size == 0: self.heapSize = len(arr)\n",
    "        else: self.heapSize = size\n",
    "    def minHeapify(self,i):\n",
    "        l = 2*i+1\n",
    "        r = 2*i+2\n",
    "        if l < self.heapSize and self.array[l] < self.array[i]:\n",
    "            smallest = l\n",
    "        else: smallest = i\n",
    "        if r < self.heapSize and self.array[r] < self.array[smallest]:\n",
    "            smallest = r\n",
    "        if smallest != i:\n",
    "            self.array[i] += self.array[smallest]\n",
    "            self.array[smallest] = self.array[i]-self.array[smallest]\n",
    "            self.array[i] -= self.array[smallest]\n",
    "    def maxHeapify(self,i):\n",
    "        global numcalls\n",
    "        numcalls += 1\n",
    "        l = 2*i+1\n",
    "        r = 2*i+2\n",
    "        if l < self.heapSize and self.array[l] > self.array[i]:\n",
    "          largest = l\n",
    "        else: largest = i\n",
    "        if r < self.heapSize and self.array[r] > self.array[largest]:\n",
    "          largest = r\n",
    "        if largest != i:\n",
    "          self.array[i] += self.array[largest]\n",
    "          self.array[largest] = self.array[i] - self.array[largest]\n",
    "          self.array[i] -= self.array[largest]\n",
    "          self.maxHeapify(largest)\n",
    "    def buildMinHeap(self):\n",
    "        for it in range(int(self.heapSize/2-1),-1,-1):\n",
    "            self.minHeapify(it)\n",
    "    def buildMaxHeap(self):\n",
    "        for it in range(int(self.heapSize/2-1),-1,-1):\n",
    "          self.maxHeapify(it)\n",
    "    def sort(self):\n",
    "        self.buildMaxHeap()\n",
    "        for i in range(1,len(self.array)):\n",
    "            #print(self)\n",
    "            if(self.heapSize > 1):\n",
    "              self.array[0]+=self.array[self.heapSize-1]\n",
    "              self.array[self.heapSize-1]=self.array[0]-self.array[self.heapSize-1]\n",
    "              self.array[0]-=self.array[self.heapSize-1]\n",
    "            #print(self)\n",
    "            self.heapSize -= 1\n",
    "            self.maxHeapify(0)\n",
    "    def heapMaximum(self):\n",
    "        return self.array[0]\n",
    "    def extractMax(self):\n",
    "        if self.heapSize < 0:\n",
    "          print(\"ERR: Heap underflow!\")\n",
    "          return -1\n",
    "        else:\n",
    "          self.array[0]+=self.array[self.heapSize-1]\n",
    "          self.array[self.heapSize-1] = self.array[0]-self.array[self.heapSize-1]\n",
    "          self.array[0]-= self.array[self.heapSize-1]\n",
    "          self.heapSize -= 1\n",
    "          self.maxHeapify(0)\n",
    "          return self.array[self.heapSize]\n",
    "        return -1\n",
    "    def increaseKey(self,i,key):\n",
    "        if self.array[i] > key:\n",
    "            print(\"ERR: new key is smaler than current key\")\n",
    "        else:\n",
    "            self.array[i] = key\n",
    "            while i > 0 and self.array[int(i/2)-1] < self.array[i]:\n",
    "              i = int(i/2)-1\n",
    "    def maxHeapInsert(self,key):\n",
    "        if self.heapSize + 1 >= len(self.array):\n",
    "            self.array.append(-1000000)\n",
    "            self.heapSize += 1\n",
    "        else:\n",
    "            self.heapSize += 1\n",
    "            self.array[self.heapSize-1] = -1000000\n",
    "        self.increaseKey(self.heapSize-1,key)\n",
    "    def __str__(self):\n",
    "        return str(self.array[0:self.heapSize])\n",
    "array = Heap(a)\n",
    "numcalls= 0\n",
    "array.buildMaxHeap()\n",
    "array.maxHeapInsert(12)\n",
    "print(array)"
   ]
  }
 ],
 "metadata": {
  "kernelspec": {
   "display_name": "Python 3",
   "language": "python",
   "name": "python3"
  },
  "language_info": {
   "codemirror_mode": {
    "name": "ipython",
    "version": 3
   },
   "file_extension": ".py",
   "mimetype": "text/x-python",
   "name": "python",
   "nbconvert_exporter": "python",
   "pygments_lexer": "ipython3",
   "version": "3.7.3"
  }
 },
 "nbformat": 4,
 "nbformat_minor": 2
}
